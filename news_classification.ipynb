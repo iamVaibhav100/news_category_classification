{
  "nbformat": 4,
  "nbformat_minor": 0,
  "metadata": {
    "colab": {
      "provenance": [],
      "authorship_tag": "ABX9TyPP28u8U36Z+PufMeNpoA8H",
      "include_colab_link": true
    },
    "kernelspec": {
      "name": "python3",
      "display_name": "Python 3"
    },
    "language_info": {
      "name": "python"
    },
    "accelerator": "GPU",
    "gpuClass": "standard"
  },
  "cells": [
    {
      "cell_type": "markdown",
      "metadata": {
        "id": "view-in-github",
        "colab_type": "text"
      },
      "source": [
        "<a href=\"https://colab.research.google.com/github/iamVaibhav100/news_category_classification/blob/main/news_classification.ipynb\" target=\"_parent\"><img src=\"https://colab.research.google.com/assets/colab-badge.svg\" alt=\"Open In Colab\"/></a>"
      ]
    },
    {
      "cell_type": "code",
      "execution_count": null,
      "metadata": {
        "id": "Qh15Xe8tShOl"
      },
      "outputs": [],
      "source": [
        "!apt-get install cuda"
      ]
    },
    {
      "cell_type": "code",
      "source": [
        "!pip install torch torchvision transformers"
      ],
      "metadata": {
        "id": "IXMtQNRuTQWJ"
      },
      "execution_count": null,
      "outputs": []
    },
    {
      "cell_type": "code",
      "source": [
        "import torch\n",
        "import transformers\n",
        "print(torch.__version__)\n",
        "print(transformers.__version__)"
      ],
      "metadata": {
        "colab": {
          "base_uri": "https://localhost:8080/"
        },
        "id": "3XVU5gAdUyVL",
        "outputId": "90a4823e-0b5d-4720-9b61-e48d6177e664"
      },
      "execution_count": 3,
      "outputs": [
        {
          "output_type": "stream",
          "name": "stdout",
          "text": [
            "1.13.1+cu116\n",
            "4.26.1\n"
          ]
        }
      ]
    },
    {
      "cell_type": "code",
      "source": [
        "import pandas as pd\n",
        "import numpy as np"
      ],
      "metadata": {
        "id": "ICHya-MGWaD8"
      },
      "execution_count": 4,
      "outputs": []
    },
    {
      "cell_type": "code",
      "source": [
        "news = pd.read_csv(\"sample_data/NewsCategorizer.csv\")\n",
        "news.head(10)"
      ],
      "metadata": {
        "colab": {
          "base_uri": "https://localhost:8080/",
          "height": 580
        },
        "id": "-d3OlhG1U6qW",
        "outputId": "3a76062c-45a5-4dc1-8a4c-1b4200d61111"
      },
      "execution_count": 12,
      "outputs": [
        {
          "output_type": "execute_result",
          "data": {
            "text/plain": [
              "   category                                           headline  \\\n",
              "0  WELLNESS              143 Miles in 35 Days: Lessons Learned   \n",
              "1  WELLNESS       Talking to Yourself: Crazy or Crazy Helpful?   \n",
              "2  WELLNESS  Crenezumab: Trial Will Gauge Whether Alzheimer...   \n",
              "3  WELLNESS                     Oh, What a Difference She Made   \n",
              "4  WELLNESS                                   Green Superfoods   \n",
              "5  WELLNESS              Bad Love Advice: 9 Lessons To Unlearn   \n",
              "6  WELLNESS   The Happiest (And Unhappiest) States In The U.S.   \n",
              "7  WELLNESS  Seaweed: The Green Superfood You're Not Eating...   \n",
              "8  WELLNESS                                  Addicted to Food?   \n",
              "9  WELLNESS         High Tech Works When It Enables High Touch   \n",
              "\n",
              "                                               links  \\\n",
              "0  https://www.huffingtonpost.com/entry/running-l...   \n",
              "1  https://www.huffingtonpost.com/entry/talking-t...   \n",
              "2  https://www.huffingtonpost.com/entry/crenezuma...   \n",
              "3  https://www.huffingtonpost.com/entry/meaningfu...   \n",
              "4  https://www.huffingtonpost.com/entry/green-sup...   \n",
              "5  https://www.huffingtonpost.com/entry/bad-love-...   \n",
              "6  https://www.huffingtonpost.com/entry/happiest-...   \n",
              "7  https://www.huffingtonpost.com/entry/superfood...   \n",
              "8  https://www.huffingtonpost.com/entry/food-addi...   \n",
              "9  https://www.huffingtonpost.com/entry/high-tech...   \n",
              "\n",
              "                                   short_description  \\\n",
              "0  Resting is part of training. I've confirmed wh...   \n",
              "1  Think of talking to yourself as a tool to coac...   \n",
              "2  The clock is ticking for the United States to ...   \n",
              "3  If you want to be busy, keep trying to be perf...   \n",
              "4  First, the bad news: Soda bread, corned beef a...   \n",
              "5  By Carey Moss for YouBeauty.com Love rom-coms,...   \n",
              "6  The nation in general scored a 66.2 in 2011 on...   \n",
              "7  It's also worth remembering that if the water ...   \n",
              "8  If you look at our culture's eating behavior, ...   \n",
              "9  François-Marie Arouet, 18th century French aut...   \n",
              "\n",
              "                                         keywords  \n",
              "0                                 running-lessons  \n",
              "1                       talking-to-yourself-crazy  \n",
              "2              crenezumab-alzheimers-disease-drug  \n",
              "3                                 meaningful-life  \n",
              "4                                green-superfoods  \n",
              "5                     bad-love-advice-from-movies  \n",
              "6  happiest-state-well-being-united-states-gallup  \n",
              "7               superfood-seaweed-health-benefits  \n",
              "8                                  food-addiction  \n",
              "9                       high-tech-works-when-it-e  "
            ],
            "text/html": [
              "\n",
              "  <div id=\"df-c7847cad-0db3-4c5e-afe4-147437bf047e\">\n",
              "    <div class=\"colab-df-container\">\n",
              "      <div>\n",
              "<style scoped>\n",
              "    .dataframe tbody tr th:only-of-type {\n",
              "        vertical-align: middle;\n",
              "    }\n",
              "\n",
              "    .dataframe tbody tr th {\n",
              "        vertical-align: top;\n",
              "    }\n",
              "\n",
              "    .dataframe thead th {\n",
              "        text-align: right;\n",
              "    }\n",
              "</style>\n",
              "<table border=\"1\" class=\"dataframe\">\n",
              "  <thead>\n",
              "    <tr style=\"text-align: right;\">\n",
              "      <th></th>\n",
              "      <th>category</th>\n",
              "      <th>headline</th>\n",
              "      <th>links</th>\n",
              "      <th>short_description</th>\n",
              "      <th>keywords</th>\n",
              "    </tr>\n",
              "  </thead>\n",
              "  <tbody>\n",
              "    <tr>\n",
              "      <th>0</th>\n",
              "      <td>WELLNESS</td>\n",
              "      <td>143 Miles in 35 Days: Lessons Learned</td>\n",
              "      <td>https://www.huffingtonpost.com/entry/running-l...</td>\n",
              "      <td>Resting is part of training. I've confirmed wh...</td>\n",
              "      <td>running-lessons</td>\n",
              "    </tr>\n",
              "    <tr>\n",
              "      <th>1</th>\n",
              "      <td>WELLNESS</td>\n",
              "      <td>Talking to Yourself: Crazy or Crazy Helpful?</td>\n",
              "      <td>https://www.huffingtonpost.com/entry/talking-t...</td>\n",
              "      <td>Think of talking to yourself as a tool to coac...</td>\n",
              "      <td>talking-to-yourself-crazy</td>\n",
              "    </tr>\n",
              "    <tr>\n",
              "      <th>2</th>\n",
              "      <td>WELLNESS</td>\n",
              "      <td>Crenezumab: Trial Will Gauge Whether Alzheimer...</td>\n",
              "      <td>https://www.huffingtonpost.com/entry/crenezuma...</td>\n",
              "      <td>The clock is ticking for the United States to ...</td>\n",
              "      <td>crenezumab-alzheimers-disease-drug</td>\n",
              "    </tr>\n",
              "    <tr>\n",
              "      <th>3</th>\n",
              "      <td>WELLNESS</td>\n",
              "      <td>Oh, What a Difference She Made</td>\n",
              "      <td>https://www.huffingtonpost.com/entry/meaningfu...</td>\n",
              "      <td>If you want to be busy, keep trying to be perf...</td>\n",
              "      <td>meaningful-life</td>\n",
              "    </tr>\n",
              "    <tr>\n",
              "      <th>4</th>\n",
              "      <td>WELLNESS</td>\n",
              "      <td>Green Superfoods</td>\n",
              "      <td>https://www.huffingtonpost.com/entry/green-sup...</td>\n",
              "      <td>First, the bad news: Soda bread, corned beef a...</td>\n",
              "      <td>green-superfoods</td>\n",
              "    </tr>\n",
              "    <tr>\n",
              "      <th>5</th>\n",
              "      <td>WELLNESS</td>\n",
              "      <td>Bad Love Advice: 9 Lessons To Unlearn</td>\n",
              "      <td>https://www.huffingtonpost.com/entry/bad-love-...</td>\n",
              "      <td>By Carey Moss for YouBeauty.com Love rom-coms,...</td>\n",
              "      <td>bad-love-advice-from-movies</td>\n",
              "    </tr>\n",
              "    <tr>\n",
              "      <th>6</th>\n",
              "      <td>WELLNESS</td>\n",
              "      <td>The Happiest (And Unhappiest) States In The U.S.</td>\n",
              "      <td>https://www.huffingtonpost.com/entry/happiest-...</td>\n",
              "      <td>The nation in general scored a 66.2 in 2011 on...</td>\n",
              "      <td>happiest-state-well-being-united-states-gallup</td>\n",
              "    </tr>\n",
              "    <tr>\n",
              "      <th>7</th>\n",
              "      <td>WELLNESS</td>\n",
              "      <td>Seaweed: The Green Superfood You're Not Eating...</td>\n",
              "      <td>https://www.huffingtonpost.com/entry/superfood...</td>\n",
              "      <td>It's also worth remembering that if the water ...</td>\n",
              "      <td>superfood-seaweed-health-benefits</td>\n",
              "    </tr>\n",
              "    <tr>\n",
              "      <th>8</th>\n",
              "      <td>WELLNESS</td>\n",
              "      <td>Addicted to Food?</td>\n",
              "      <td>https://www.huffingtonpost.com/entry/food-addi...</td>\n",
              "      <td>If you look at our culture's eating behavior, ...</td>\n",
              "      <td>food-addiction</td>\n",
              "    </tr>\n",
              "    <tr>\n",
              "      <th>9</th>\n",
              "      <td>WELLNESS</td>\n",
              "      <td>High Tech Works When It Enables High Touch</td>\n",
              "      <td>https://www.huffingtonpost.com/entry/high-tech...</td>\n",
              "      <td>François-Marie Arouet, 18th century French aut...</td>\n",
              "      <td>high-tech-works-when-it-e</td>\n",
              "    </tr>\n",
              "  </tbody>\n",
              "</table>\n",
              "</div>\n",
              "      <button class=\"colab-df-convert\" onclick=\"convertToInteractive('df-c7847cad-0db3-4c5e-afe4-147437bf047e')\"\n",
              "              title=\"Convert this dataframe to an interactive table.\"\n",
              "              style=\"display:none;\">\n",
              "        \n",
              "  <svg xmlns=\"http://www.w3.org/2000/svg\" height=\"24px\"viewBox=\"0 0 24 24\"\n",
              "       width=\"24px\">\n",
              "    <path d=\"M0 0h24v24H0V0z\" fill=\"none\"/>\n",
              "    <path d=\"M18.56 5.44l.94 2.06.94-2.06 2.06-.94-2.06-.94-.94-2.06-.94 2.06-2.06.94zm-11 1L8.5 8.5l.94-2.06 2.06-.94-2.06-.94L8.5 2.5l-.94 2.06-2.06.94zm10 10l.94 2.06.94-2.06 2.06-.94-2.06-.94-.94-2.06-.94 2.06-2.06.94z\"/><path d=\"M17.41 7.96l-1.37-1.37c-.4-.4-.92-.59-1.43-.59-.52 0-1.04.2-1.43.59L10.3 9.45l-7.72 7.72c-.78.78-.78 2.05 0 2.83L4 21.41c.39.39.9.59 1.41.59.51 0 1.02-.2 1.41-.59l7.78-7.78 2.81-2.81c.8-.78.8-2.07 0-2.86zM5.41 20L4 18.59l7.72-7.72 1.47 1.35L5.41 20z\"/>\n",
              "  </svg>\n",
              "      </button>\n",
              "      \n",
              "  <style>\n",
              "    .colab-df-container {\n",
              "      display:flex;\n",
              "      flex-wrap:wrap;\n",
              "      gap: 12px;\n",
              "    }\n",
              "\n",
              "    .colab-df-convert {\n",
              "      background-color: #E8F0FE;\n",
              "      border: none;\n",
              "      border-radius: 50%;\n",
              "      cursor: pointer;\n",
              "      display: none;\n",
              "      fill: #1967D2;\n",
              "      height: 32px;\n",
              "      padding: 0 0 0 0;\n",
              "      width: 32px;\n",
              "    }\n",
              "\n",
              "    .colab-df-convert:hover {\n",
              "      background-color: #E2EBFA;\n",
              "      box-shadow: 0px 1px 2px rgba(60, 64, 67, 0.3), 0px 1px 3px 1px rgba(60, 64, 67, 0.15);\n",
              "      fill: #174EA6;\n",
              "    }\n",
              "\n",
              "    [theme=dark] .colab-df-convert {\n",
              "      background-color: #3B4455;\n",
              "      fill: #D2E3FC;\n",
              "    }\n",
              "\n",
              "    [theme=dark] .colab-df-convert:hover {\n",
              "      background-color: #434B5C;\n",
              "      box-shadow: 0px 1px 3px 1px rgba(0, 0, 0, 0.15);\n",
              "      filter: drop-shadow(0px 1px 2px rgba(0, 0, 0, 0.3));\n",
              "      fill: #FFFFFF;\n",
              "    }\n",
              "  </style>\n",
              "\n",
              "      <script>\n",
              "        const buttonEl =\n",
              "          document.querySelector('#df-c7847cad-0db3-4c5e-afe4-147437bf047e button.colab-df-convert');\n",
              "        buttonEl.style.display =\n",
              "          google.colab.kernel.accessAllowed ? 'block' : 'none';\n",
              "\n",
              "        async function convertToInteractive(key) {\n",
              "          const element = document.querySelector('#df-c7847cad-0db3-4c5e-afe4-147437bf047e');\n",
              "          const dataTable =\n",
              "            await google.colab.kernel.invokeFunction('convertToInteractive',\n",
              "                                                     [key], {});\n",
              "          if (!dataTable) return;\n",
              "\n",
              "          const docLinkHtml = 'Like what you see? Visit the ' +\n",
              "            '<a target=\"_blank\" href=https://colab.research.google.com/notebooks/data_table.ipynb>data table notebook</a>'\n",
              "            + ' to learn more about interactive tables.';\n",
              "          element.innerHTML = '';\n",
              "          dataTable['output_type'] = 'display_data';\n",
              "          await google.colab.output.renderOutput(dataTable, element);\n",
              "          const docLink = document.createElement('div');\n",
              "          docLink.innerHTML = docLinkHtml;\n",
              "          element.appendChild(docLink);\n",
              "        }\n",
              "      </script>\n",
              "    </div>\n",
              "  </div>\n",
              "  "
            ]
          },
          "metadata": {},
          "execution_count": 12
        }
      ]
    },
    {
      "cell_type": "code",
      "source": [
        "news.shape"
      ],
      "metadata": {
        "colab": {
          "base_uri": "https://localhost:8080/"
        },
        "id": "MAvWFh-MWfRh",
        "outputId": "6a4fc374-9d5d-4ba1-9cac-81b0a4507db2"
      },
      "execution_count": 9,
      "outputs": [
        {
          "output_type": "execute_result",
          "data": {
            "text/plain": [
              "(50000, 5)"
            ]
          },
          "metadata": {},
          "execution_count": 9
        }
      ]
    },
    {
      "cell_type": "code",
      "source": [
        "news[\"category\"].value_counts()"
      ],
      "metadata": {
        "colab": {
          "base_uri": "https://localhost:8080/"
        },
        "id": "TzYtOOQWXEao",
        "outputId": "5456de5c-809f-4d81-e267-fbe87da599ff"
      },
      "execution_count": 11,
      "outputs": [
        {
          "output_type": "execute_result",
          "data": {
            "text/plain": [
              "WELLNESS          5000\n",
              "POLITICS          5000\n",
              "ENTERTAINMENT     5000\n",
              "TRAVEL            5000\n",
              "STYLE & BEAUTY    5000\n",
              "PARENTING         5000\n",
              "FOOD & DRINK      5000\n",
              "WORLD NEWS        5000\n",
              "BUSINESS          5000\n",
              "SPORTS            5000\n",
              "Name: category, dtype: int64"
            ]
          },
          "metadata": {},
          "execution_count": 11
        }
      ]
    },
    {
      "cell_type": "code",
      "source": [
        "news = news.drop([\"links\", \"keywords\"], axis=1)\n",
        "news.tail()"
      ],
      "metadata": {
        "colab": {
          "base_uri": "https://localhost:8080/",
          "height": 206
        },
        "id": "rgjIW50hXNlI",
        "outputId": "98ba8538-2cca-47c9-cc36-94e5e9dbf366"
      },
      "execution_count": 14,
      "outputs": [
        {
          "output_type": "execute_result",
          "data": {
            "text/plain": [
              "      category                                           headline  \\\n",
              "49995   SPORTS  This Baseball Team Learned There's A Wrong Way...   \n",
              "49996   SPORTS  Some Young Spurs Fan Dabbed 38 Times In A Sing...   \n",
              "49997   SPORTS  Rasheed Wallace Ejected From Knicks-Suns Game ...   \n",
              "49998   SPORTS  Why Jake Plummer And Other NFL Players Are Pus...   \n",
              "49999   SPORTS  Simone Biles Isn't The Next Anyone, She's 'The...   \n",
              "\n",
              "                                       short_description  \n",
              "49995  Many fans were pissed after seeing the minor l...  \n",
              "49996             Never change, young man. Never change.  \n",
              "49997  Wallace was hit with a first technical for a h...  \n",
              "49998  They believe CBD could be an alternative to po...  \n",
              "49999             The gymnast is in a league of her own.  "
            ],
            "text/html": [
              "\n",
              "  <div id=\"df-e37d61a7-e491-4be6-adc2-7a01582dff0c\">\n",
              "    <div class=\"colab-df-container\">\n",
              "      <div>\n",
              "<style scoped>\n",
              "    .dataframe tbody tr th:only-of-type {\n",
              "        vertical-align: middle;\n",
              "    }\n",
              "\n",
              "    .dataframe tbody tr th {\n",
              "        vertical-align: top;\n",
              "    }\n",
              "\n",
              "    .dataframe thead th {\n",
              "        text-align: right;\n",
              "    }\n",
              "</style>\n",
              "<table border=\"1\" class=\"dataframe\">\n",
              "  <thead>\n",
              "    <tr style=\"text-align: right;\">\n",
              "      <th></th>\n",
              "      <th>category</th>\n",
              "      <th>headline</th>\n",
              "      <th>short_description</th>\n",
              "    </tr>\n",
              "  </thead>\n",
              "  <tbody>\n",
              "    <tr>\n",
              "      <th>49995</th>\n",
              "      <td>SPORTS</td>\n",
              "      <td>This Baseball Team Learned There's A Wrong Way...</td>\n",
              "      <td>Many fans were pissed after seeing the minor l...</td>\n",
              "    </tr>\n",
              "    <tr>\n",
              "      <th>49996</th>\n",
              "      <td>SPORTS</td>\n",
              "      <td>Some Young Spurs Fan Dabbed 38 Times In A Sing...</td>\n",
              "      <td>Never change, young man. Never change.</td>\n",
              "    </tr>\n",
              "    <tr>\n",
              "      <th>49997</th>\n",
              "      <td>SPORTS</td>\n",
              "      <td>Rasheed Wallace Ejected From Knicks-Suns Game ...</td>\n",
              "      <td>Wallace was hit with a first technical for a h...</td>\n",
              "    </tr>\n",
              "    <tr>\n",
              "      <th>49998</th>\n",
              "      <td>SPORTS</td>\n",
              "      <td>Why Jake Plummer And Other NFL Players Are Pus...</td>\n",
              "      <td>They believe CBD could be an alternative to po...</td>\n",
              "    </tr>\n",
              "    <tr>\n",
              "      <th>49999</th>\n",
              "      <td>SPORTS</td>\n",
              "      <td>Simone Biles Isn't The Next Anyone, She's 'The...</td>\n",
              "      <td>The gymnast is in a league of her own.</td>\n",
              "    </tr>\n",
              "  </tbody>\n",
              "</table>\n",
              "</div>\n",
              "      <button class=\"colab-df-convert\" onclick=\"convertToInteractive('df-e37d61a7-e491-4be6-adc2-7a01582dff0c')\"\n",
              "              title=\"Convert this dataframe to an interactive table.\"\n",
              "              style=\"display:none;\">\n",
              "        \n",
              "  <svg xmlns=\"http://www.w3.org/2000/svg\" height=\"24px\"viewBox=\"0 0 24 24\"\n",
              "       width=\"24px\">\n",
              "    <path d=\"M0 0h24v24H0V0z\" fill=\"none\"/>\n",
              "    <path d=\"M18.56 5.44l.94 2.06.94-2.06 2.06-.94-2.06-.94-.94-2.06-.94 2.06-2.06.94zm-11 1L8.5 8.5l.94-2.06 2.06-.94-2.06-.94L8.5 2.5l-.94 2.06-2.06.94zm10 10l.94 2.06.94-2.06 2.06-.94-2.06-.94-.94-2.06-.94 2.06-2.06.94z\"/><path d=\"M17.41 7.96l-1.37-1.37c-.4-.4-.92-.59-1.43-.59-.52 0-1.04.2-1.43.59L10.3 9.45l-7.72 7.72c-.78.78-.78 2.05 0 2.83L4 21.41c.39.39.9.59 1.41.59.51 0 1.02-.2 1.41-.59l7.78-7.78 2.81-2.81c.8-.78.8-2.07 0-2.86zM5.41 20L4 18.59l7.72-7.72 1.47 1.35L5.41 20z\"/>\n",
              "  </svg>\n",
              "      </button>\n",
              "      \n",
              "  <style>\n",
              "    .colab-df-container {\n",
              "      display:flex;\n",
              "      flex-wrap:wrap;\n",
              "      gap: 12px;\n",
              "    }\n",
              "\n",
              "    .colab-df-convert {\n",
              "      background-color: #E8F0FE;\n",
              "      border: none;\n",
              "      border-radius: 50%;\n",
              "      cursor: pointer;\n",
              "      display: none;\n",
              "      fill: #1967D2;\n",
              "      height: 32px;\n",
              "      padding: 0 0 0 0;\n",
              "      width: 32px;\n",
              "    }\n",
              "\n",
              "    .colab-df-convert:hover {\n",
              "      background-color: #E2EBFA;\n",
              "      box-shadow: 0px 1px 2px rgba(60, 64, 67, 0.3), 0px 1px 3px 1px rgba(60, 64, 67, 0.15);\n",
              "      fill: #174EA6;\n",
              "    }\n",
              "\n",
              "    [theme=dark] .colab-df-convert {\n",
              "      background-color: #3B4455;\n",
              "      fill: #D2E3FC;\n",
              "    }\n",
              "\n",
              "    [theme=dark] .colab-df-convert:hover {\n",
              "      background-color: #434B5C;\n",
              "      box-shadow: 0px 1px 3px 1px rgba(0, 0, 0, 0.15);\n",
              "      filter: drop-shadow(0px 1px 2px rgba(0, 0, 0, 0.3));\n",
              "      fill: #FFFFFF;\n",
              "    }\n",
              "  </style>\n",
              "\n",
              "      <script>\n",
              "        const buttonEl =\n",
              "          document.querySelector('#df-e37d61a7-e491-4be6-adc2-7a01582dff0c button.colab-df-convert');\n",
              "        buttonEl.style.display =\n",
              "          google.colab.kernel.accessAllowed ? 'block' : 'none';\n",
              "\n",
              "        async function convertToInteractive(key) {\n",
              "          const element = document.querySelector('#df-e37d61a7-e491-4be6-adc2-7a01582dff0c');\n",
              "          const dataTable =\n",
              "            await google.colab.kernel.invokeFunction('convertToInteractive',\n",
              "                                                     [key], {});\n",
              "          if (!dataTable) return;\n",
              "\n",
              "          const docLinkHtml = 'Like what you see? Visit the ' +\n",
              "            '<a target=\"_blank\" href=https://colab.research.google.com/notebooks/data_table.ipynb>data table notebook</a>'\n",
              "            + ' to learn more about interactive tables.';\n",
              "          element.innerHTML = '';\n",
              "          dataTable['output_type'] = 'display_data';\n",
              "          await google.colab.output.renderOutput(dataTable, element);\n",
              "          const docLink = document.createElement('div');\n",
              "          docLink.innerHTML = docLinkHtml;\n",
              "          element.appendChild(docLink);\n",
              "        }\n",
              "      </script>\n",
              "    </div>\n",
              "  </div>\n",
              "  "
            ]
          },
          "metadata": {},
          "execution_count": 14
        }
      ]
    },
    {
      "cell_type": "code",
      "source": [
        "from sklearn.model_selection import train_test_split\n",
        "\n",
        "X_train, X_test, y_train, y_test = train_test_split()"
      ],
      "metadata": {
        "id": "lEnHWHAhYw0v"
      },
      "execution_count": null,
      "outputs": []
    }
  ]
}